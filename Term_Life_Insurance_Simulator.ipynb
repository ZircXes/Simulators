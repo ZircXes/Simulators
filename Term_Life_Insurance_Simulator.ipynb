{
  "nbformat": 4,
  "nbformat_minor": 0,
  "metadata": {
    "colab": {
      "name": "Term Life Insurance Simulator.ipynb",
      "provenance": [],
      "toc_visible": true
    },
    "kernelspec": {
      "name": "python3",
      "display_name": "Python 3"
    },
    "language_info": {
      "name": "python"
    }
  },
  "cells": [
    {
      "cell_type": "markdown",
      "metadata": {
        "id": "16iQOmKTHpGW"
      },
      "source": [
        "# Term Life Insurance Simulator"
      ]
    },
    {
      "cell_type": "markdown",
      "metadata": {
        "id": "x5PaFeCwAC9o"
      },
      "source": [
        "Author: Chris Kennedy\n",
        "\n",
        "Last Update: 9/3/2021\n",
        "\n",
        "Disclaimer: I'm not an actuary"
      ]
    },
    {
      "cell_type": "markdown",
      "metadata": {
        "id": "v1MqiDxI2xri"
      },
      "source": [
        "## Environment Setup"
      ]
    },
    {
      "cell_type": "markdown",
      "metadata": {
        "id": "xBGw45_bj5_b"
      },
      "source": [
        "### Imports"
      ]
    },
    {
      "cell_type": "code",
      "metadata": {
        "id": "gBRXeQPpvxfm"
      },
      "source": [
        "import numpy as np\n",
        "import pandas as pd\n",
        "import io"
      ],
      "execution_count": 20,
      "outputs": []
    },
    {
      "cell_type": "code",
      "metadata": {
        "colab": {
          "base_uri": "https://localhost:8080/"
        },
        "id": "iTOHGiaw02XX",
        "outputId": "400b2962-fc61-4437-b340-413304cb445b"
      },
      "source": [
        "! pip install numpy_financial\n",
        "import numpy_financial as npf"
      ],
      "execution_count": 5,
      "outputs": [
        {
          "output_type": "stream",
          "name": "stdout",
          "text": [
            "Collecting numpy_financial\n",
            "  Downloading numpy_financial-1.0.0-py3-none-any.whl (14 kB)\n",
            "Requirement already satisfied: numpy>=1.15 in /usr/local/lib/python3.7/dist-packages (from numpy_financial) (1.19.5)\n",
            "Installing collected packages: numpy-financial\n",
            "Successfully installed numpy-financial-1.0.0\n"
          ]
        }
      ]
    },
    {
      "cell_type": "markdown",
      "metadata": {
        "id": "_axJBykOjx4C"
      },
      "source": [
        "### Raw Data"
      ]
    },
    {
      "cell_type": "markdown",
      "metadata": {
        "id": "Tai5m-z5mIvT"
      },
      "source": [
        "Raw data sourced from SSA Period Life Tables:\n",
        "[US SSA.GOV 1999](https://www.ssa.gov/oact/STATS/table4c6.html)"
      ]
    },
    {
      "cell_type": "code",
      "metadata": {
        "id": "jQpAa3quhcoH"
      },
      "source": [
        "# 1999 US SSN Death Probability Table\n",
        "# Source: https://www.ssa.gov/oact/STATS/table4c6.html\n",
        "# Age, MDP, FDP\n",
        "raw_file_1999 = \"\"\"\n",
        "0\t0.006081\t0.005046\n",
        "1\t0.000425\t0.000349\n",
        "2\t0.000260\t0.000212\n",
        "3\t0.000194\t0.000166\n",
        "4\t0.000154\t0.000137\n",
        "5\t0.000142\t0.000122\n",
        "6\t0.000135\t0.000111\n",
        "7\t0.000127\t0.000103\n",
        "8\t0.000117\t0.000098\n",
        "9\t0.000104\t0.000095\n",
        "10\t0.000097\t0.000096\n",
        "11\t0.000106\t0.000102\n",
        "12\t0.000145\t0.000116\n",
        "13\t0.000220\t0.000139\n",
        "14\t0.000324\t0.00017\n",
        "15\t0.000437\t0.000204\n",
        "16\t0.000552\t0.00024\n",
        "17\t0.000676\t0.000278\n",
        "18\t0.000806\t0.000319\n",
        "19\t0.000939\t0.00036\n",
        "20\t0.001079\t0.000405\n",
        "21\t0.001215\t0.000451\n",
        "22\t0.001327\t0.000491\n",
        "23\t0.001406\t0.000523\n",
        "24\t0.001461\t0.00055\n",
        "25\t0.001508\t0.000575\n",
        "26\t0.001559\t0.000605\n",
        "27\t0.001612\t0.000642\n",
        "28\t0.001671\t0.000691\n",
        "29\t0.001734\t0.000749\n",
        "30\t0.001798\t0.000811\n",
        "31\t0.001860\t0.000872\n",
        "32\t0.001926\t0.000933\n",
        "33\t0.001994\t0.00099\n",
        "34\t0.002067\t0.001046\n",
        "35\t0.002147\t0.001107\n",
        "36\t0.002233\t0.001172\n",
        "37\t0.002318\t0.001236\n",
        "38\t0.002399\t0.001296\n",
        "39\t0.002483\t0.001356\n",
        "40\t0.002581\t0.001423\n",
        "41\t0.002697\t0.001502\n",
        "42\t0.002828\t0.001596\n",
        "43\t0.002976\t0.001709\n",
        "44\t0.003145\t0.00184\n",
        "45\t0.003339\t0.001988\n",
        "46\t0.003566\t0.002152\n",
        "47\t0.003831\t0.002332\n",
        "48\t0.004142\t0.002528\n",
        "49\t0.004498\t0.002744\n",
        "50\t0.004888\t0.00298\n",
        "51\t0.005319\t0.00324\n",
        "52\t0.005808\t0.003529\n",
        "53\t0.006360\t0.003852\n",
        "54\t0.006970\t0.004207\n",
        "55\t0.007627\t0.00459\n",
        "56\t0.008320\t0.004996\n",
        "57\t0.009047\t0.005425\n",
        "58\t0.009803\t0.005874\n",
        "59\t0.010591\t0.006346\n",
        "60\t0.011447\t0.00688\n",
        "61\t0.012352\t0.007454\n",
        "62\t0.013248\t0.008006\n",
        "63\t0.014117\t0.008515\n",
        "64\t0.014995\t0.009025\n",
        "65\t0.015987\t0.00961\n",
        "66\t0.017107\t0.01032\n",
        "67\t0.018280\t0.011158\n",
        "68\t0.019500\t0.012148\n",
        "69\t0.020829\t0.013301\n",
        "70\t0.022364\t0.014662\n",
        "71\t0.024169\t0.01621\n",
        "72\t0.026249\t0.017892\n",
        "73\t0.028642\t0.019701\n",
        "74\t0.031380\t0.0217\n",
        "75\t0.034593\t0.024064\n",
        "76\t0.038235\t0.026814\n",
        "77\t0.042159\t0.029837\n",
        "78\t0.046336\t0.033132\n",
        "79\t0.050917\t0.03681\n",
        "80\t0.056205\t0.041102\n",
        "81\t0.062327\t0.04608\n",
        "82\t0.069190\t0.051658\n",
        "83\t0.076844\t0.057868\n",
        "84\t0.085407\t0.064829\n",
        "85\t0.095010\t0.07269\n",
        "86\t0.105770\t0.081578\n",
        "87\t0.117771\t0.091587\n",
        "88\t0.131063\t0.102774\n",
        "89\t0.145666\t0.11516\n",
        "90\t0.161582\t0.128749\n",
        "91\t0.178797\t0.143532\n",
        "92\t0.197287\t0.159491\n",
        "93\t0.217013\t0.1766\n",
        "94\t0.237930\t0.194825\n",
        "95\t0.258655\t0.213248\n",
        "96\t0.278786\t0.23157\n",
        "97\t0.297897\t0.249466\n",
        "98\t0.315556\t0.266589\n",
        "99\t0.331333\t0.282585\n",
        "100\t0.347900\t0.29954\n",
        "101\t0.365295\t0.317512\n",
        "102\t0.383560\t0.336563\n",
        "103\t0.402738\t0.356756\n",
        "104\t0.422875\t0.378162\n",
        "105\t0.444018\t0.400852\n",
        "106\t0.466219\t0.424903\n",
        "107\t0.489530\t0.450397\n",
        "108\t0.514007\t0.477421\n",
        "109\t0.539707\t0.506066\n",
        "110\t0.566692\t0.53643\n",
        "111\t0.595027\t0.568616\n",
        "112\t0.624778\t0.602733\n",
        "113\t0.656017\t0.638896\n",
        "114\t0.688818\t0.67723\n",
        "115\t0.723259\t0.717864\n",
        "116\t0.759422\t0.759422\n",
        "117\t0.797393\t0.797393\n",
        "118\t0.837263\t0.837263\n",
        "119\t0.879126\t0.879126\"\"\"\n"
      ],
      "execution_count": 55,
      "outputs": []
    },
    {
      "cell_type": "code",
      "metadata": {
        "id": "PixjxzNahkvz"
      },
      "source": [
        "death_table_1999 = pd.read_csv(io.StringIO(raw_file_1999), delimiter='\\t', names=['Age','MaleDeathProb','FemaleDeathProb'])"
      ],
      "execution_count": 33,
      "outputs": []
    },
    {
      "cell_type": "code",
      "metadata": {
        "colab": {
          "base_uri": "https://localhost:8080/",
          "height": 206
        },
        "id": "ICxibGJXi5zV",
        "outputId": "10291f7f-5595-4a51-beb8-bf774593bdc8"
      },
      "source": [
        "death_table_1999.head()"
      ],
      "execution_count": 35,
      "outputs": [
        {
          "output_type": "execute_result",
          "data": {
            "text/html": [
              "<div>\n",
              "<style scoped>\n",
              "    .dataframe tbody tr th:only-of-type {\n",
              "        vertical-align: middle;\n",
              "    }\n",
              "\n",
              "    .dataframe tbody tr th {\n",
              "        vertical-align: top;\n",
              "    }\n",
              "\n",
              "    .dataframe thead th {\n",
              "        text-align: right;\n",
              "    }\n",
              "</style>\n",
              "<table border=\"1\" class=\"dataframe\">\n",
              "  <thead>\n",
              "    <tr style=\"text-align: right;\">\n",
              "      <th></th>\n",
              "      <th>Age</th>\n",
              "      <th>MaleDeathProb</th>\n",
              "      <th>FemaleDeathProb</th>\n",
              "    </tr>\n",
              "  </thead>\n",
              "  <tbody>\n",
              "    <tr>\n",
              "      <th>0</th>\n",
              "      <td>0</td>\n",
              "      <td>0.006081</td>\n",
              "      <td>0.005046</td>\n",
              "    </tr>\n",
              "    <tr>\n",
              "      <th>1</th>\n",
              "      <td>1</td>\n",
              "      <td>0.000425</td>\n",
              "      <td>0.000349</td>\n",
              "    </tr>\n",
              "    <tr>\n",
              "      <th>2</th>\n",
              "      <td>2</td>\n",
              "      <td>0.000260</td>\n",
              "      <td>0.000212</td>\n",
              "    </tr>\n",
              "    <tr>\n",
              "      <th>3</th>\n",
              "      <td>3</td>\n",
              "      <td>0.000194</td>\n",
              "      <td>0.000166</td>\n",
              "    </tr>\n",
              "    <tr>\n",
              "      <th>4</th>\n",
              "      <td>4</td>\n",
              "      <td>0.000154</td>\n",
              "      <td>0.000137</td>\n",
              "    </tr>\n",
              "  </tbody>\n",
              "</table>\n",
              "</div>"
            ],
            "text/plain": [
              "   Age  MaleDeathProb  FemaleDeathProb\n",
              "0    0       0.006081         0.005046\n",
              "1    1       0.000425         0.000349\n",
              "2    2       0.000260         0.000212\n",
              "3    3       0.000194         0.000166\n",
              "4    4       0.000154         0.000137"
            ]
          },
          "metadata": {},
          "execution_count": 35
        }
      ]
    },
    {
      "cell_type": "markdown",
      "metadata": {
        "id": "N7GPIqVe24Wi"
      },
      "source": [
        "### Parameters and Assumptions"
      ]
    },
    {
      "cell_type": "code",
      "metadata": {
        "id": "Ro49iLEBJP9M"
      },
      "source": [
        "# Simulation Assumptions\n",
        "n_simulations = 100000  # Number of Simulations\n",
        "random_seed = 42        # Random Seed\n",
        "max_term = 30           # Simulation Years Max"
      ],
      "execution_count": 6,
      "outputs": []
    },
    {
      "cell_type": "code",
      "metadata": {
        "id": "wBOXddjgHoMc"
      },
      "source": [
        "# Financial Assumptions\n",
        "r = 0.0275              # Inflation Rate: 0.025 = 2.5%\n",
        "t = 20                  # Term Years\n",
        "payoff = 500000         # Payoff upon death\n",
        "payment = 68.00         # Monthly Payment\n",
        "\n",
        "# Constants\n",
        "MPY = 12                # Months per Year"
      ],
      "execution_count": 7,
      "outputs": []
    },
    {
      "cell_type": "code",
      "metadata": {
        "id": "phG-YzXGkHoz"
      },
      "source": [
        "# Person Assessed\n",
        "gender = 'male'         # male or female\n",
        "age = 36"
      ],
      "execution_count": 56,
      "outputs": []
    },
    {
      "cell_type": "markdown",
      "metadata": {
        "id": "jrxEyUzO2tFi"
      },
      "source": [
        "### Functions"
      ]
    },
    {
      "cell_type": "code",
      "metadata": {
        "id": "Kqb1hQQrkadm"
      },
      "source": [
        "def get_probability_table(age, gender):\n",
        "  if gender == 'male':\n",
        "    prob_table = death_table_1999['MaleDeathProb'].iloc[age:age+max_term].values\n",
        "  else:\n",
        "    prob_table = death_table_1999['FemaleDeathProb'].iloc[age:age+max_term].values\n",
        "  return prob_table"
      ],
      "execution_count": 57,
      "outputs": []
    },
    {
      "cell_type": "code",
      "metadata": {
        "id": "bq7uzvV91u9R"
      },
      "source": [
        "def get_payoff(flag_vector):\n",
        "  # Find the first period of death, if none, payoff is zero\n",
        "  for i in range(t):\n",
        "    if flag_vector[i] == 1:\n",
        "      result_idx = i+1\n",
        "      pay = payoff\n",
        "      break\n",
        "  else:\n",
        "    result_idx = t\n",
        "    pay = 0\n",
        "\n",
        "  # Compute present value of the result\n",
        "  return result_idx, np.round(npf.pv(r/12, result_idx*MPY,payment,-pay), 2)"
      ],
      "execution_count": 58,
      "outputs": []
    },
    {
      "cell_type": "markdown",
      "metadata": {
        "id": "MGIBm6JX3I_6"
      },
      "source": [
        "## Run Simulation"
      ]
    },
    {
      "cell_type": "markdown",
      "metadata": {
        "id": "LC4hUdg13Eeo"
      },
      "source": [
        "### Initialize"
      ]
    },
    {
      "cell_type": "code",
      "metadata": {
        "id": "-OKzJXr0wPp7"
      },
      "source": [
        "np.random.seed(random_seed)"
      ],
      "execution_count": 48,
      "outputs": []
    },
    {
      "cell_type": "code",
      "metadata": {
        "id": "wMybj1YGwGEN"
      },
      "source": [
        "rand_sample = np.random.rand(n_simulations,max_term)"
      ],
      "execution_count": 49,
      "outputs": []
    },
    {
      "cell_type": "code",
      "metadata": {
        "id": "wdgbDn0skyNc"
      },
      "source": [
        "prob_table = get_probability_table(age, gender)"
      ],
      "execution_count": 65,
      "outputs": []
    },
    {
      "cell_type": "markdown",
      "metadata": {
        "id": "z5_m3ENwljdL"
      },
      "source": [
        "### Run"
      ]
    },
    {
      "cell_type": "code",
      "metadata": {
        "colab": {
          "base_uri": "https://localhost:8080/"
        },
        "id": "xPWMmFU63kTE",
        "outputId": "cf667cbc-5fff-493d-b81d-7ed64d2b47af"
      },
      "source": [
        "scenario_results = []\n",
        "verbose = 5000\n",
        "\n",
        "for i in range(n_simulations):\n",
        "  result_vec = [1 if rand_sample[i][j] < prob_table[j] else 0 for j in range(max_term)]\n",
        "  term_result, payoff_result = get_payoff(result_vec)\n",
        "  scenario_results.append([term_result, payoff_result])\n",
        "\n",
        "  if (i+1) % verbose == 0:\n",
        "    print(\"Completing iteration...\", i+1)"
      ],
      "execution_count": 51,
      "outputs": [
        {
          "output_type": "stream",
          "name": "stdout",
          "text": [
            "Completing iteration... 5000\n",
            "Completing iteration... 10000\n",
            "Completing iteration... 15000\n",
            "Completing iteration... 20000\n",
            "Completing iteration... 25000\n",
            "Completing iteration... 30000\n",
            "Completing iteration... 35000\n",
            "Completing iteration... 40000\n",
            "Completing iteration... 45000\n",
            "Completing iteration... 50000\n",
            "Completing iteration... 55000\n",
            "Completing iteration... 60000\n",
            "Completing iteration... 65000\n",
            "Completing iteration... 70000\n",
            "Completing iteration... 75000\n",
            "Completing iteration... 80000\n",
            "Completing iteration... 85000\n",
            "Completing iteration... 90000\n",
            "Completing iteration... 95000\n",
            "Completing iteration... 100000\n"
          ]
        }
      ]
    },
    {
      "cell_type": "code",
      "metadata": {
        "colab": {
          "base_uri": "https://localhost:8080/"
        },
        "id": "JzY0vv_D5hQe",
        "outputId": "589b070e-d2c4-40f6-f448-4689685098f6"
      },
      "source": [
        "my_df = pd.DataFrame(scenario_results, columns=[['Years','Payoff']])\n",
        "my_df.mean()"
      ],
      "execution_count": 52,
      "outputs": [
        {
          "output_type": "execute_result",
          "data": {
            "text/plain": [
              "Years        19.419130\n",
              "Payoff    15671.610918\n",
              "dtype: float64"
            ]
          },
          "metadata": {},
          "execution_count": 52
        }
      ]
    },
    {
      "cell_type": "code",
      "metadata": {
        "colab": {
          "base_uri": "https://localhost:8080/",
          "height": 662
        },
        "id": "XxpkYtbc7MhO",
        "outputId": "7105faf1-d66e-4c7d-b91a-77745045ac6d"
      },
      "source": [
        "my_df.hist(figsize=[22,10])"
      ],
      "execution_count": 64,
      "outputs": [
        {
          "output_type": "execute_result",
          "data": {
            "text/plain": [
              "array([[<matplotlib.axes._subplots.AxesSubplot object at 0x7fe2d272ce50>,\n",
              "        <matplotlib.axes._subplots.AxesSubplot object at 0x7fe2d26d1490>]],\n",
              "      dtype=object)"
            ]
          },
          "metadata": {},
          "execution_count": 64
        },
        {
          "output_type": "display_data",
          "data": {
            "image/png": "[encoded data removed]",
            "text/plain": [
              "<Figure size 1584x720 with 2 Axes>"
            ]
          },
          "metadata": {
            "needs_background": "light"
          }
        }
      ]
    },
    {
      "cell_type": "markdown",
      "metadata": {
        "id": "OP--Jafallly"
      },
      "source": [
        "### Output to File"
      ]
    },
    {
      "cell_type": "code",
      "metadata": {
        "id": "IbEqooUo7jnS"
      },
      "source": [
        "my_df.to_csv('output.csv')"
      ],
      "execution_count": 129,
      "outputs": []
    }
  ]
}